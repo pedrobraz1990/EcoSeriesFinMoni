{
 "cells": [
  {
   "cell_type": "code",
   "execution_count": 1,
   "metadata": {
    "collapsed": true
   },
   "outputs": [],
   "source": [
    "%matplotlib inline\n",
    "\n",
    "import numpy as np\n",
    "import pandas as pd\n"
   ]
  },
  {
   "cell_type": "markdown",
   "metadata": {},
   "source": [
    "# Timmermann et al 2014\n",
    "\n",
    "\n",
    "# Data\n",
    "\n",
    "Get DI Data from ``Spline.xlsx`` and resample it to Business Month End Frequency\n",
    "\n",
    "The DataFrame will be T x N"
   ]
  },
  {
   "cell_type": "code",
   "execution_count": 8,
   "metadata": {
    "collapsed": false
   },
   "outputs": [
    {
     "data": {
      "text/html": [
       "<div>\n",
       "<table border=\"1\" class=\"dataframe\">\n",
       "  <thead>\n",
       "    <tr style=\"text-align: right;\">\n",
       "      <th></th>\n",
       "      <th>1</th>\n",
       "      <th>11</th>\n",
       "      <th>12</th>\n",
       "      <th>13</th>\n",
       "      <th>14</th>\n",
       "      <th>15</th>\n",
       "      <th>16</th>\n",
       "      <th>17</th>\n",
       "      <th>18</th>\n",
       "      <th>19</th>\n",
       "      <th>...</th>\n",
       "      <th>51</th>\n",
       "      <th>52</th>\n",
       "      <th>53</th>\n",
       "      <th>54</th>\n",
       "      <th>55</th>\n",
       "      <th>56</th>\n",
       "      <th>57</th>\n",
       "      <th>58</th>\n",
       "      <th>59</th>\n",
       "      <th>60</th>\n",
       "    </tr>\n",
       "  </thead>\n",
       "  <tbody>\n",
       "    <tr>\n",
       "      <th>2007-03-30</th>\n",
       "      <td>0.112178</td>\n",
       "      <td>0.111870</td>\n",
       "      <td>0.111435</td>\n",
       "      <td>0.111114</td>\n",
       "      <td>0.110892</td>\n",
       "      <td>0.110724</td>\n",
       "      <td>0.110576</td>\n",
       "      <td>0.110430</td>\n",
       "      <td>0.110273</td>\n",
       "      <td>0.110099</td>\n",
       "      <td>...</td>\n",
       "      <td>0.109557</td>\n",
       "      <td>0.109537</td>\n",
       "      <td>0.109509</td>\n",
       "      <td>0.109477</td>\n",
       "      <td>0.109444</td>\n",
       "      <td>0.109414</td>\n",
       "      <td>0.109389</td>\n",
       "      <td>0.109373</td>\n",
       "      <td>0.109364</td>\n",
       "      <td>0.109362</td>\n",
       "    </tr>\n",
       "    <tr>\n",
       "      <th>2007-04-30</th>\n",
       "      <td>0.109243</td>\n",
       "      <td>0.107465</td>\n",
       "      <td>0.106872</td>\n",
       "      <td>0.106312</td>\n",
       "      <td>0.105808</td>\n",
       "      <td>0.105374</td>\n",
       "      <td>0.105003</td>\n",
       "      <td>0.104682</td>\n",
       "      <td>0.104398</td>\n",
       "      <td>0.104151</td>\n",
       "      <td>...</td>\n",
       "      <td>0.100716</td>\n",
       "      <td>0.100688</td>\n",
       "      <td>0.100661</td>\n",
       "      <td>0.100633</td>\n",
       "      <td>0.100606</td>\n",
       "      <td>0.100579</td>\n",
       "      <td>0.100553</td>\n",
       "      <td>0.100528</td>\n",
       "      <td>0.100503</td>\n",
       "      <td>0.100480</td>\n",
       "    </tr>\n",
       "    <tr>\n",
       "      <th>2007-05-31</th>\n",
       "      <td>0.107843</td>\n",
       "      <td>0.104212</td>\n",
       "      <td>0.103718</td>\n",
       "      <td>0.103256</td>\n",
       "      <td>0.102796</td>\n",
       "      <td>0.102334</td>\n",
       "      <td>0.101869</td>\n",
       "      <td>0.101408</td>\n",
       "      <td>0.100981</td>\n",
       "      <td>0.100624</td>\n",
       "      <td>...</td>\n",
       "      <td>0.096859</td>\n",
       "      <td>0.096837</td>\n",
       "      <td>0.096818</td>\n",
       "      <td>0.096797</td>\n",
       "      <td>0.096769</td>\n",
       "      <td>0.096730</td>\n",
       "      <td>0.096684</td>\n",
       "      <td>0.096637</td>\n",
       "      <td>0.096591</td>\n",
       "      <td>0.096547</td>\n",
       "    </tr>\n",
       "    <tr>\n",
       "      <th>2007-06-29</th>\n",
       "      <td>0.103756</td>\n",
       "      <td>0.102014</td>\n",
       "      <td>0.101751</td>\n",
       "      <td>0.101571</td>\n",
       "      <td>0.101426</td>\n",
       "      <td>0.101262</td>\n",
       "      <td>0.101039</td>\n",
       "      <td>0.100803</td>\n",
       "      <td>0.100629</td>\n",
       "      <td>0.100578</td>\n",
       "      <td>...</td>\n",
       "      <td>0.101648</td>\n",
       "      <td>0.101657</td>\n",
       "      <td>0.101653</td>\n",
       "      <td>0.101636</td>\n",
       "      <td>0.101608</td>\n",
       "      <td>0.101568</td>\n",
       "      <td>0.101516</td>\n",
       "      <td>0.101454</td>\n",
       "      <td>0.101381</td>\n",
       "      <td>0.101298</td>\n",
       "    </tr>\n",
       "    <tr>\n",
       "      <th>2007-07-31</th>\n",
       "      <td>0.100667</td>\n",
       "      <td>0.103359</td>\n",
       "      <td>0.103311</td>\n",
       "      <td>0.103307</td>\n",
       "      <td>0.103331</td>\n",
       "      <td>0.103371</td>\n",
       "      <td>0.103424</td>\n",
       "      <td>0.103494</td>\n",
       "      <td>0.103580</td>\n",
       "      <td>0.103691</td>\n",
       "      <td>...</td>\n",
       "      <td>0.104831</td>\n",
       "      <td>0.104809</td>\n",
       "      <td>0.104829</td>\n",
       "      <td>0.104896</td>\n",
       "      <td>0.104979</td>\n",
       "      <td>0.105038</td>\n",
       "      <td>0.105045</td>\n",
       "      <td>0.105020</td>\n",
       "      <td>0.104994</td>\n",
       "      <td>0.104986</td>\n",
       "    </tr>\n",
       "  </tbody>\n",
       "</table>\n",
       "<p>5 rows × 51 columns</p>\n",
       "</div>"
      ],
      "text/plain": [
       "                  1         11        12        13        14        15  \\\n",
       "2007-03-30  0.112178  0.111870  0.111435  0.111114  0.110892  0.110724   \n",
       "2007-04-30  0.109243  0.107465  0.106872  0.106312  0.105808  0.105374   \n",
       "2007-05-31  0.107843  0.104212  0.103718  0.103256  0.102796  0.102334   \n",
       "2007-06-29  0.103756  0.102014  0.101751  0.101571  0.101426  0.101262   \n",
       "2007-07-31  0.100667  0.103359  0.103311  0.103307  0.103331  0.103371   \n",
       "\n",
       "                  16        17        18        19    ...           51  \\\n",
       "2007-03-30  0.110576  0.110430  0.110273  0.110099    ...     0.109557   \n",
       "2007-04-30  0.105003  0.104682  0.104398  0.104151    ...     0.100716   \n",
       "2007-05-31  0.101869  0.101408  0.100981  0.100624    ...     0.096859   \n",
       "2007-06-29  0.101039  0.100803  0.100629  0.100578    ...     0.101648   \n",
       "2007-07-31  0.103424  0.103494  0.103580  0.103691    ...     0.104831   \n",
       "\n",
       "                  52        53        54        55        56        57  \\\n",
       "2007-03-30  0.109537  0.109509  0.109477  0.109444  0.109414  0.109389   \n",
       "2007-04-30  0.100688  0.100661  0.100633  0.100606  0.100579  0.100553   \n",
       "2007-05-31  0.096837  0.096818  0.096797  0.096769  0.096730  0.096684   \n",
       "2007-06-29  0.101657  0.101653  0.101636  0.101608  0.101568  0.101516   \n",
       "2007-07-31  0.104809  0.104829  0.104896  0.104979  0.105038  0.105045   \n",
       "\n",
       "                  58        59        60  \n",
       "2007-03-30  0.109373  0.109364  0.109362  \n",
       "2007-04-30  0.100528  0.100503  0.100480  \n",
       "2007-05-31  0.096637  0.096591  0.096547  \n",
       "2007-06-29  0.101454  0.101381  0.101298  \n",
       "2007-07-31  0.105020  0.104994  0.104986  \n",
       "\n",
       "[5 rows x 51 columns]"
      ]
     },
     "execution_count": 8,
     "metadata": {},
     "output_type": "execute_result"
    }
   ],
   "source": [
    "DataBaseTable = pd.read_excel('Splines.xlsx',index_col=0)\n",
    "DataBaseTable = DataBaseTable.resample('BM').last()\n",
    "DataBaseTable = (DataBaseTable/100 + 1).apply(np.log) # Transform to logs\n",
    "DataBaseTable.head()"
   ]
  },
  {
   "cell_type": "markdown",
   "metadata": {},
   "source": [
    "In order to calculate returns and excess returns we use equations (2) and (3).\n",
    "\n",
    "We consider only monthly data so h/12 in this case equals 1"
   ]
  },
  {
   "cell_type": "code",
   "execution_count": null,
   "metadata": {
    "collapsed": true
   },
   "outputs": [],
   "source": [
    "returns_t1 = DataBaseTable"
   ]
  },
  {
   "cell_type": "code",
   "execution_count": 5,
   "metadata": {
    "collapsed": false
   },
   "outputs": [
    {
     "data": {
      "text/plain": [
       "DatetimeIndex(['2007-04-30', '2007-05-31', '2007-06-29', '2007-07-31',\n",
       "               '2007-08-31', '2007-09-28', '2007-10-31', '2007-11-30',\n",
       "               '2007-12-31', '2008-01-31',\n",
       "               ...\n",
       "               '2016-08-31', '2016-09-30', '2016-10-31', '2016-11-30',\n",
       "               '2016-12-30', '2017-01-31', '2017-02-28', '2017-03-31',\n",
       "               '2017-04-28', '2017-05-31'],\n",
       "              dtype='datetime64[ns]', length=122, freq='BM')"
      ]
     },
     "execution_count": 5,
     "metadata": {},
     "output_type": "execute_result"
    }
   ],
   "source": []
  },
  {
   "cell_type": "markdown",
   "metadata": {},
   "source": [
    "## Factors"
   ]
  },
  {
   "cell_type": "markdown",
   "metadata": {},
   "source": [
    "### Fama-Bliss (FB) Factor\n",
    "\n",
    "$$fs_t^{(n,h)} = f_t^{(n-h/12,n)} - y_t^{(h/12)}(h/12) $$\n",
    "\n",
    "The FB Spread is calculated as the forward rate, at time t, from n-h/12 (one unit of freqnecy) to n, minus the current yield for h/12, de-annualized.\n",
    "\n",
    "\n",
    "Meaning its the difference from the last $h/12$ yield within a given maturity and the first $h/12$ yield."
   ]
  },
  {
   "cell_type": "markdown",
   "metadata": {},
   "source": [
    "### Cochrane-Piazzesi (CB) Factor"
   ]
  }
 ],
 "metadata": {
  "kernelspec": {
   "display_name": "Python 3",
   "language": "python",
   "name": "python3"
  },
  "language_info": {
   "codemirror_mode": {
    "name": "ipython",
    "version": 3
   },
   "file_extension": ".py",
   "mimetype": "text/x-python",
   "name": "python",
   "nbconvert_exporter": "python",
   "pygments_lexer": "ipython3",
   "version": "3.6.0"
  }
 },
 "nbformat": 4,
 "nbformat_minor": 2
}
